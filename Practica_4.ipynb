{
  "nbformat": 4,
  "nbformat_minor": 0,
  "metadata": {
    "colab": {
      "provenance": []
    },
    "kernelspec": {
      "name": "python3",
      "display_name": "Python 3"
    },
    "language_info": {
      "name": "python"
    }
  },
  "cells": [
    {
      "cell_type": "markdown",
      "source": [
        "Antonio Calzadilla Miranda"
      ],
      "metadata": {
        "id": "iMXlqDPLBmoh"
      }
    },
    {
      "cell_type": "markdown",
      "source": [
        "**Practica # 04 **\n",
        "Manipulación de matrices\n",
        "\n",
        "Crea dos matrices de 3x3 con números aleatorios entre 1 y 10. Realiza las siguientes operaciones:\n",
        "\n",
        "Suma ambas matrices.\n",
        "Resta la segunda matriz de la primera.\n",
        "Multiplica la primera matriz por 2.\n",
        "Realiza una multiplicación matricial entre las dos matrices.\n",
        "No olvides enviar tu .ipynb y el link de tu repositorio de github"
      ],
      "metadata": {
        "id": "3a9bXpP4BJkg"
      }
    },
    {
      "cell_type": "code",
      "execution_count": 2,
      "metadata": {
        "colab": {
          "base_uri": "https://localhost:8080/"
        },
        "id": "-HvLPuvfAkjV",
        "outputId": "9ae9a1d3-588d-4710-8b90-d284e05574fd"
      },
      "outputs": [
        {
          "output_type": "stream",
          "name": "stdout",
          "text": [
            "Matriz A: [[5 5 3]\n",
            " [9 9 4]\n",
            " [9 9 3]]\n",
            "Matriz B: [[2 9 8]\n",
            " [8 2 6]\n",
            " [6 7 7]]\n",
            "Suma de matrices: [[ 7 14 11]\n",
            " [17 11 10]\n",
            " [15 16 10]]\n",
            "Resta de B - A: [[-3  4  5]\n",
            " [-1 -7  2]\n",
            " [-3 -2  4]]\n",
            "Multiplicación de A por 2: [[10 10  6]\n",
            " [18 18  8]\n",
            " [18 18  6]]\n",
            "Multiplicación matricial: [[ 68  76  91]\n",
            " [114 127 154]\n",
            " [108 120 147]]\n"
          ]
        }
      ],
      "source": [
        "import numpy as np\n",
        "A = np.random.randint(1, 10, (3, 3))\n",
        "B = np.random.randint(1, 10, (3, 3))\n",
        "print(\"Matriz A:\", A)\n",
        "print(\"Matriz B:\", B)\n",
        "print(\"Suma de matrices:\", A + B)\n",
        "print(\"Resta de B - A:\", B - A)\n",
        "print(\"Multiplicación de A por 2:\", np.dot(A, 2))\n",
        "print(\"Multiplicación matricial:\", np.dot(A, B))"
      ]
    }
  ]
}