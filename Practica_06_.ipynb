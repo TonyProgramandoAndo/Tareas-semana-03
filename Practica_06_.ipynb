{
  "nbformat": 4,
  "nbformat_minor": 0,
  "metadata": {
    "colab": {
      "provenance": [],
      "authorship_tag": "ABX9TyM03o51tM9LIG+IV0jtOPrK",
      "include_colab_link": true
    },
    "kernelspec": {
      "name": "python3",
      "display_name": "Python 3"
    },
    "language_info": {
      "name": "python"
    }
  },
  "cells": [
    {
      "cell_type": "markdown",
      "metadata": {
        "id": "view-in-github",
        "colab_type": "text"
      },
      "source": [
        "<a href=\"https://colab.research.google.com/github/TonyProgramandoAndo/Tareas-semana-03/blob/main/Practica_06_.ipynb\" target=\"_parent\"><img src=\"https://colab.research.google.com/assets/colab-badge.svg\" alt=\"Open In Colab\"/></a>"
      ]
    },
    {
      "cell_type": "markdown",
      "source": [
        "**Practica #6. Manejo de libreria Pandas**\n",
        "\n",
        "Instrucciones: Carga el archivo titanic.csv en la carpeta correspondiente de Google drive para realizar los siguientes ejercicios"
      ],
      "metadata": {
        "id": "o5qDi13YFHLo"
      }
    },
    {
      "cell_type": "code",
      "source": [
        "from google.colab import drive\n",
        "drive.mount('/content/drive')\n",
        "\n",
        "import pandas as pd"
      ],
      "metadata": {
        "colab": {
          "base_uri": "https://localhost:8080/"
        },
        "id": "Myg2zZIUJgLH",
        "outputId": "6e045134-ed7f-436d-e9ea-56b34c9b9b9f"
      },
      "execution_count": 11,
      "outputs": [
        {
          "output_type": "stream",
          "name": "stdout",
          "text": [
            "Drive already mounted at /content/drive; to attempt to forcibly remount, call drive.mount(\"/content/drive\", force_remount=True).\n"
          ]
        }
      ]
    },
    {
      "cell_type": "markdown",
      "source": [
        "Ejercicio 1: Análisis de la distribución de supervivencia por combinación de sexo y clase del pasajero.\n",
        "\n",
        "Calcula la proporción de supervivencia para cada combinación de 'Sex' y 'Pclass'.\n",
        " Identifica qué combinación tuvo la tasa de supervivencia más alta.\n",
        "Identifica qué combinación tuvo la tasa de supervivencia más baja."
      ],
      "metadata": {
        "id": "izjv2zesFSpw"
      }
    },
    {
      "cell_type": "code",
      "source": [
        "df = pd.read_csv('/content/drive/MyDrive/Colab Notebooks/Programacion /Semana 03/titanic.csv')\n",
        "print(df.head())"
      ],
      "metadata": {
        "colab": {
          "base_uri": "https://localhost:8080/"
        },
        "id": "6v2EnxeKJqLA",
        "outputId": "6ba62da1-e919-4388-bf72-085b89b02fbd"
      },
      "execution_count": 12,
      "outputs": [
        {
          "output_type": "stream",
          "name": "stdout",
          "text": [
            "   Survived  Pclass                                               Name  \\\n",
            "0         0       3                             Mr. Owen Harris Braund   \n",
            "1         1       1  Mrs. John Bradley (Florence Briggs Thayer) Cum...   \n",
            "2         1       3                              Miss. Laina Heikkinen   \n",
            "3         1       1        Mrs. Jacques Heath (Lily May Peel) Futrelle   \n",
            "4         0       3                            Mr. William Henry Allen   \n",
            "\n",
            "      Sex   Age  Siblings/Spouses Aboard  Parents/Children Aboard     Fare  \n",
            "0    male  22.0                        1                        0   7.2500  \n",
            "1  female  38.0                        1                        0  71.2833  \n",
            "2  female  26.0                        0                        0   7.9250  \n",
            "3  female  35.0                        1                        0  53.1000  \n",
            "4    male  35.0                        0                        0   8.0500  \n"
          ]
        }
      ]
    },
    {
      "cell_type": "code",
      "source": [
        "# Mostrar las primeras 5 filas\n",
        "print(df.head())"
      ],
      "metadata": {
        "colab": {
          "base_uri": "https://localhost:8080/"
        },
        "id": "9nq66sqMKlBC",
        "outputId": "3782e71d-6cb8-4769-bb95-d83954c95f75"
      },
      "execution_count": 13,
      "outputs": [
        {
          "output_type": "stream",
          "name": "stdout",
          "text": [
            "   Survived  Pclass                                               Name  \\\n",
            "0         0       3                             Mr. Owen Harris Braund   \n",
            "1         1       1  Mrs. John Bradley (Florence Briggs Thayer) Cum...   \n",
            "2         1       3                              Miss. Laina Heikkinen   \n",
            "3         1       1        Mrs. Jacques Heath (Lily May Peel) Futrelle   \n",
            "4         0       3                            Mr. William Henry Allen   \n",
            "\n",
            "      Sex   Age  Siblings/Spouses Aboard  Parents/Children Aboard     Fare  \n",
            "0    male  22.0                        1                        0   7.2500  \n",
            "1  female  38.0                        1                        0  71.2833  \n",
            "2  female  26.0                        0                        0   7.9250  \n",
            "3  female  35.0                        1                        0  53.1000  \n",
            "4    male  35.0                        0                        0   8.0500  \n"
          ]
        }
      ]
    },
    {
      "cell_type": "code",
      "execution_count": 14,
      "metadata": {
        "colab": {
          "base_uri": "https://localhost:8080/"
        },
        "id": "fzZORjxgI1Fe",
        "outputId": "e64ae9b0-3103-4461-bce2-74897b0a60b7"
      },
      "outputs": [
        {
          "output_type": "stream",
          "name": "stdout",
          "text": [
            "Sex     Pclass\n",
            "female  1         0.968085\n",
            "        2         0.921053\n",
            "        3         0.500000\n",
            "male    1         0.368852\n",
            "        2         0.157407\n",
            "        3         0.137026\n",
            "Name: Survived, dtype: float64\n"
          ]
        }
      ],
      "source": [
        "# Agrupamos por 'Sex' y 'Pclass'\n",
        "survival_rate = df.groupby(['Sex', 'Pclass'])['Survived'].mean()\n",
        "\n",
        "print(survival_rate)\n"
      ]
    },
    {
      "cell_type": "code",
      "source": [
        "best_group=survival_rate.idxmax()\n",
        "best_rate=survival_rate.max()\n",
        "print('Mejor combinacion:', best_group)\n",
        "print('Mejor tasa de supervivencia:', best_rate)\n",
        "worst_group=survival_rate.idxmin()\n",
        "worst_rate=survival_rate.min()\n",
        "print('Peor combinacion:', worst_group)\n",
        "print(\"Peor tasa de supervivencia:\", worst_rate)"
      ],
      "metadata": {
        "colab": {
          "base_uri": "https://localhost:8080/"
        },
        "id": "8-HWc1nCQhj1",
        "outputId": "13943d9a-8e23-454a-ad76-725c63390d15"
      },
      "execution_count": 15,
      "outputs": [
        {
          "output_type": "stream",
          "name": "stdout",
          "text": [
            "Mejor combinacion: ('female', np.int64(1))\n",
            "Mejor tasa de supervivencia: 0.9680851063829787\n",
            "Peor combinacion: ('male', np.int64(3))\n",
            "Peor tasa de supervivencia: 0.13702623906705538\n"
          ]
        }
      ]
    },
    {
      "cell_type": "markdown",
      "source": [
        "Ejercicio 2: Identificación de familias grandes a bordo.\n",
        "\n",
        "Crea una nueva columna 'FamilySize' sumando las columnas 'SibSp' y 'Parch'.\n",
        "Considera como \"familia grande\" a aquellas donde 'FamilySize' es mayor a 3.\n"
      ],
      "metadata": {
        "id": "tx0g50mTFf-g"
      }
    },
    {
      "cell_type": "code",
      "source": [
        "df['FamilySize'] = df[['Siblings/Spouses Aboard', 'Parents/Children Aboard']].sum(axis=1)\n",
        "print(df.head())"
      ],
      "metadata": {
        "colab": {
          "base_uri": "https://localhost:8080/"
        },
        "id": "VfaH7JrvVnnU",
        "outputId": "66f1fd4f-ee72-4bf2-d076-78709b4fd7a7"
      },
      "execution_count": 16,
      "outputs": [
        {
          "output_type": "stream",
          "name": "stdout",
          "text": [
            "   Survived  Pclass                                               Name  \\\n",
            "0         0       3                             Mr. Owen Harris Braund   \n",
            "1         1       1  Mrs. John Bradley (Florence Briggs Thayer) Cum...   \n",
            "2         1       3                              Miss. Laina Heikkinen   \n",
            "3         1       1        Mrs. Jacques Heath (Lily May Peel) Futrelle   \n",
            "4         0       3                            Mr. William Henry Allen   \n",
            "\n",
            "      Sex   Age  Siblings/Spouses Aboard  Parents/Children Aboard     Fare  \\\n",
            "0    male  22.0                        1                        0   7.2500   \n",
            "1  female  38.0                        1                        0  71.2833   \n",
            "2  female  26.0                        0                        0   7.9250   \n",
            "3  female  35.0                        1                        0  53.1000   \n",
            "4    male  35.0                        0                        0   8.0500   \n",
            "\n",
            "   FamilySize  \n",
            "0           1  \n",
            "1           1  \n",
            "2           0  \n",
            "3           1  \n",
            "4           0  \n"
          ]
        }
      ]
    },
    {
      "cell_type": "code",
      "source": [
        "Familia_grande = df[(df['FamilySize'] > 3)]\n",
        "print(Familia_grande)\n",
        "print(Familia_grande.count())"
      ],
      "metadata": {
        "colab": {
          "base_uri": "https://localhost:8080/"
        },
        "id": "wZ810MrcWRI7",
        "outputId": "fd7127b8-1fc1-47f5-e1bb-00acd89f81de"
      },
      "execution_count": 17,
      "outputs": [
        {
          "output_type": "stream",
          "name": "stdout",
          "text": [
            "     Survived  Pclass                                               Name  \\\n",
            "7           0       3                      Master. Gosta Leonard Palsson   \n",
            "13          0       3                         Mr. Anders Johan Andersson   \n",
            "16          0       3                                Master. Eugene Rice   \n",
            "24          0       3                       Miss. Torborg Danira Palsson   \n",
            "25          1       3  Mrs. Carl Oscar (Selma Augusta Emilia Johansso...   \n",
            "..        ...     ...                                                ...   \n",
            "820         0       3                        Master. Urho Abraham Panula   \n",
            "842         0       3                            Mr. Douglas Bullen Sage   \n",
            "846         0       3             Master. Sigvard Harald Elias Andersson   \n",
            "859         0       3                           Miss. Dorothy Edith Sage   \n",
            "881         0       3                Mrs. William (Margaret Norton) Rice   \n",
            "\n",
            "        Sex   Age  Siblings/Spouses Aboard  Parents/Children Aboard     Fare  \\\n",
            "7      male   2.0                        3                        1  21.0750   \n",
            "13     male  39.0                        1                        5  31.2750   \n",
            "16     male   2.0                        4                        1  29.1250   \n",
            "24   female   8.0                        3                        1  21.0750   \n",
            "25   female  38.0                        1                        5  31.3875   \n",
            "..      ...   ...                      ...                      ...      ...   \n",
            "820    male   2.0                        4                        1  39.6875   \n",
            "842    male  18.0                        8                        2  69.5500   \n",
            "846    male   4.0                        4                        2  31.2750   \n",
            "859  female  14.0                        8                        2  69.5500   \n",
            "881  female  39.0                        0                        5  29.1250   \n",
            "\n",
            "     FamilySize  \n",
            "7             4  \n",
            "13            6  \n",
            "16            5  \n",
            "24            4  \n",
            "25            6  \n",
            "..          ...  \n",
            "820           5  \n",
            "842          10  \n",
            "846           6  \n",
            "859          10  \n",
            "881           5  \n",
            "\n",
            "[62 rows x 9 columns]\n",
            "Survived                   62\n",
            "Pclass                     62\n",
            "Name                       62\n",
            "Sex                        62\n",
            "Age                        62\n",
            "Siblings/Spouses Aboard    62\n",
            "Parents/Children Aboard    62\n",
            "Fare                       62\n",
            "FamilySize                 62\n",
            "dtype: int64\n"
          ]
        }
      ]
    },
    {
      "cell_type": "markdown",
      "source": [
        "Calcula el número de pasajeros en familias grandes.\n",
        "Calcula la proporción de supervivencia entre los pasajeros que pertenecen a familias grandes."
      ],
      "metadata": {
        "id": "z9UOaJ5GGDdN"
      }
    },
    {
      "cell_type": "code",
      "source": [
        "total_pasajeros_grandes_familias = len(Familia_grande)\n",
        "print(total_pasajeros_grandes_familias)"
      ],
      "metadata": {
        "colab": {
          "base_uri": "https://localhost:8080/"
        },
        "id": "Q_Qu6H7tXURE",
        "outputId": "de2878c3-e9a7-4717-a262-91b695b72e21"
      },
      "execution_count": 18,
      "outputs": [
        {
          "output_type": "stream",
          "name": "stdout",
          "text": [
            "62\n"
          ]
        }
      ]
    },
    {
      "cell_type": "code",
      "source": [
        "# Calculate the proportion of survival among passengers who belong to large families\n",
        "survival_rate_grandes_familias = df[df['FamilySize'] > 3]['Survived'].mean()\n",
        "print(\"Proporción de supervivencia en familias grandes:\", survival_rate_grandes_familias)"
      ],
      "metadata": {
        "colab": {
          "base_uri": "https://localhost:8080/"
        },
        "id": "3dV79QuoZOhq",
        "outputId": "3d89305d-59c7-4318-8c39-6a0b37beaaf9"
      },
      "execution_count": 20,
      "outputs": [
        {
          "output_type": "stream",
          "name": "stdout",
          "text": [
            "Proporción de supervivencia en familias grandes: 0.16129032258064516\n"
          ]
        }
      ]
    },
    {
      "cell_type": "code",
      "source": [
        "Menor_de_edad = df[(df['Age'] < 18)]\n",
        "print(Menor_de_edad)"
      ],
      "metadata": {
        "colab": {
          "base_uri": "https://localhost:8080/"
        },
        "id": "x9EPqWQadStL",
        "outputId": "76341962-26b0-4011-f060-0a2d9622a95b"
      },
      "execution_count": 21,
      "outputs": [
        {
          "output_type": "stream",
          "name": "stdout",
          "text": [
            "     Survived  Pclass                                 Name     Sex   Age  \\\n",
            "7           0       3        Master. Gosta Leonard Palsson    male   2.0   \n",
            "9           1       2   Mrs. Nicholas (Adele Achem) Nasser  female  14.0   \n",
            "10          1       3       Miss. Marguerite Rut Sandstrom  female   4.0   \n",
            "14          0       3  Miss. Hulda Amanda Adolfina Vestrom  female  14.0   \n",
            "16          0       3                  Master. Eugene Rice    male   2.0   \n",
            "..        ...     ...                                  ...     ...   ...   \n",
            "849         1       1             Miss. Mary Conover Lines  female  16.0   \n",
            "859         0       3             Miss. Dorothy Edith Sage  female  14.0   \n",
            "865         1       3       Master. Harold Theodor Johnson    male   4.0   \n",
            "871         1       3             Miss. Adele Kiamie Najib  female  15.0   \n",
            "884         0       3       Miss. Catherine Helen Johnston  female   7.0   \n",
            "\n",
            "     Siblings/Spouses Aboard  Parents/Children Aboard     Fare  FamilySize  \n",
            "7                          3                        1  21.0750           4  \n",
            "9                          1                        0  30.0708           1  \n",
            "10                         1                        1  16.7000           2  \n",
            "14                         0                        0   7.8542           0  \n",
            "16                         4                        1  29.1250           5  \n",
            "..                       ...                      ...      ...         ...  \n",
            "849                        0                        1  39.4000           1  \n",
            "859                        8                        2  69.5500          10  \n",
            "865                        1                        1  11.1333           2  \n",
            "871                        0                        0   7.2250           0  \n",
            "884                        1                        2  23.4500           3  \n",
            "\n",
            "[130 rows x 9 columns]\n"
          ]
        }
      ]
    },
    {
      "cell_type": "markdown",
      "source": [
        "Ejercicio 3: Segmentación por grupos de edad.\n",
        "\n",
        "Clasifica a los pasajeros en las siguientes categorías de edad(tip puede resultar mas sencillo realizarlo con una función)\n",
        "\n",
        "Menor de Edad\n",
        "\n",
        "Mayor de Edad"
      ],
      "metadata": {
        "id": "h1xwrkzfGJ6B"
      }
    },
    {
      "cell_type": "code",
      "source": [
        "Mayor_de_edad = df[(df['Age'] >= 18)]\n",
        "print(Mayor_de_edad)"
      ],
      "metadata": {
        "colab": {
          "base_uri": "https://localhost:8080/"
        },
        "id": "GOq_TeZNd7PY",
        "outputId": "76fce579-db9d-4e6f-e82b-1ca424f65ce4"
      },
      "execution_count": 22,
      "outputs": [
        {
          "output_type": "stream",
          "name": "stdout",
          "text": [
            "     Survived  Pclass                                               Name  \\\n",
            "0           0       3                             Mr. Owen Harris Braund   \n",
            "1           1       1  Mrs. John Bradley (Florence Briggs Thayer) Cum...   \n",
            "2           1       3                              Miss. Laina Heikkinen   \n",
            "3           1       1        Mrs. Jacques Heath (Lily May Peel) Futrelle   \n",
            "4           0       3                            Mr. William Henry Allen   \n",
            "..        ...     ...                                                ...   \n",
            "881         0       3                Mrs. William (Margaret Norton) Rice   \n",
            "882         0       2                               Rev. Juozas Montvila   \n",
            "883         1       1                        Miss. Margaret Edith Graham   \n",
            "885         1       1                               Mr. Karl Howell Behr   \n",
            "886         0       3                                 Mr. Patrick Dooley   \n",
            "\n",
            "        Sex   Age  Siblings/Spouses Aboard  Parents/Children Aboard     Fare  \\\n",
            "0      male  22.0                        1                        0   7.2500   \n",
            "1    female  38.0                        1                        0  71.2833   \n",
            "2    female  26.0                        0                        0   7.9250   \n",
            "3    female  35.0                        1                        0  53.1000   \n",
            "4      male  35.0                        0                        0   8.0500   \n",
            "..      ...   ...                      ...                      ...      ...   \n",
            "881  female  39.0                        0                        5  29.1250   \n",
            "882    male  27.0                        0                        0  13.0000   \n",
            "883  female  19.0                        0                        0  30.0000   \n",
            "885    male  26.0                        0                        0  30.0000   \n",
            "886    male  32.0                        0                        0   7.7500   \n",
            "\n",
            "     FamilySize  \n",
            "0             1  \n",
            "1             1  \n",
            "2             0  \n",
            "3             1  \n",
            "4             0  \n",
            "..          ...  \n",
            "881           5  \n",
            "882           0  \n",
            "883           0  \n",
            "885           0  \n",
            "886           0  \n",
            "\n",
            "[757 rows x 9 columns]\n"
          ]
        }
      ]
    },
    {
      "cell_type": "code",
      "source": [
        "def segmentar_edad(edad):\n",
        "    if edad < 18:\n",
        "        return 'Menor de Edad'\n",
        "    else:\n",
        "        return 'Mayor de Edad'\n",
        "df[\"segmentoEdad\"]=df[\"Age\"].apply(segmentar_edad)\n",
        "print(df[\"segmentoEdad\"])"
      ],
      "metadata": {
        "colab": {
          "base_uri": "https://localhost:8080/"
        },
        "id": "8Vrkq3wBe8Xd",
        "outputId": "f622a686-9b2a-4b87-893f-5e0c2ad4acdc"
      },
      "execution_count": 23,
      "outputs": [
        {
          "output_type": "stream",
          "name": "stdout",
          "text": [
            "0      Mayor de Edad\n",
            "1      Mayor de Edad\n",
            "2      Mayor de Edad\n",
            "3      Mayor de Edad\n",
            "4      Mayor de Edad\n",
            "           ...      \n",
            "882    Mayor de Edad\n",
            "883    Mayor de Edad\n",
            "884    Menor de Edad\n",
            "885    Mayor de Edad\n",
            "886    Mayor de Edad\n",
            "Name: segmentoEdad, Length: 887, dtype: object\n"
          ]
        }
      ]
    },
    {
      "cell_type": "markdown",
      "source": [
        "**Ejercicio 4: Comparación entre promedios calculados manualmente y con Pandas**\n",
        "\n",
        "Utiliza NumPy para calcular el promedio de las columnas 'Age' y 'Fare', ignorando valores nulos.\n",
        "\n",
        "Compara estos valores con los promedios obtenidos utilizando los métodos nativos de Pandas."
      ],
      "metadata": {
        "id": "1X4kyblzgPLa"
      }
    },
    {
      "cell_type": "code",
      "metadata": {
        "colab": {
          "base_uri": "https://localhost:8080/"
        },
        "id": "6bd7bee7",
        "outputId": "81594d4b-7915-453e-a294-31a6ad4782d1"
      },
      "source": [
        "import numpy as np\n",
        "\n",
        "# Para el manejo de NaN values con numpy.mean se puede utilizar numpy.nanmean\n",
        "\n",
        "age_numpy = df['Age'].values\n",
        "promedio_age_numpy = np.nanmean(age_numpy) # La ventaja de usar nanmean es que se ignoran los valores NaN values\n",
        "\n",
        "fare_numpy = df['Fare'].values\n",
        "promedio_fare_numpy = np.nanmean(fare_numpy)\n",
        "\n",
        "\n",
        "print(\"Promedio de Age (NumPy):\", promedio_age_numpy)\n",
        "print(\"Promedio de Fare (NumPy):\", promedio_fare_numpy)"
      ],
      "execution_count": 24,
      "outputs": [
        {
          "output_type": "stream",
          "name": "stdout",
          "text": [
            "Promedio de Age (NumPy): 29.471443066516347\n",
            "Promedio de Fare (NumPy): 32.30542018038331\n"
          ]
        }
      ]
    },
    {
      "cell_type": "code",
      "source": [
        "promedio_age = df['Age'].mean()\n",
        "promedio_fare = df['Fare'].mean()\n",
        "\n",
        "print(\"Promedio de Age:\", promedio_age)\n",
        "print(\"Promedio de Fare:\", promedio_fare)\n"
      ],
      "metadata": {
        "colab": {
          "base_uri": "https://localhost:8080/"
        },
        "id": "Yw0zx6YCgQKO",
        "outputId": "2268f207-2ea9-4d1e-afee-64d7f5165aa4"
      },
      "execution_count": 25,
      "outputs": [
        {
          "output_type": "stream",
          "name": "stdout",
          "text": [
            "Promedio de Age: 29.471443066516347\n",
            "Promedio de Fare: 32.30542018038331\n"
          ]
        }
      ]
    },
    {
      "cell_type": "markdown",
      "source": [
        "Los resultados son consistentes con ambas librerias"
      ],
      "metadata": {
        "id": "pM7-kKmPjt8A"
      }
    },
    {
      "cell_type": "markdown",
      "source": [
        "**Ejercicio 5. Creación de intervalos de clase usando NumPy y análisis con Pandas**"
      ],
      "metadata": {
        "id": "kiBhwv70j_cv"
      }
    },
    {
      "cell_type": "markdown",
      "source": [
        "np.linspace() is a NumPy function that creates an array of evenly spaced numbers over a specified interval. You provide the start, stop, and optionally the number of points you want, and linspace will generate that many points distributed equally between the start and stop values. It's often used to create evenly spaced data for plotting or calculations."
      ],
      "metadata": {
        "id": "QwZfz-MrlNT1"
      }
    },
    {
      "cell_type": "markdown",
      "source": [
        "Divide la columna 'Fare' en 5 intervalos equidistantes utilizando la función numpy.linspace, el estudiante deberá investigar la operación de esta función en python."
      ],
      "metadata": {
        "id": "cMPlNIk2IHxm"
      }
    },
    {
      "cell_type": "code",
      "metadata": {
        "colab": {
          "base_uri": "https://localhost:8080/"
        },
        "id": "12f62944",
        "outputId": "70d7c4df-1d10-48f8-bbbf-5ac220ead39d"
      },
      "source": [
        "import pandas as pd\n",
        "import numpy as np\n",
        "\n",
        "# Define el numero de intervalos\n",
        "num_intervals = 5\n",
        "\n",
        "# Con el uso de np.linspace es posible automaticamente determinar los rangos basado en los min y max\n",
        "fare_bins = np.linspace(df['Fare'].min(), df['Fare'].max() + 0.00001, num_intervals + 1)\n",
        "\n",
        "# Es posible crear intervalos para la columna Fare con la opcion pd.cut() y usnado la opcion np.linspace()\n",
        "df['FareInterval_Linspace'] = pd.cut(df['Fare'], bins=fare_bins, include_lowest=True)\n",
        "\n",
        "# Esta linea calcula la tasa de sobrevivientes por cada intervalo de tarifa\n",
        "survival_rate_by_fare_interval_linspace = df.groupby('FareInterval_Linspace')['Survived'].mean()\n",
        "\n",
        "print(survival_rate_by_fare_interval_linspace)\n",
        "\n",
        "print(df[['Fare', 'FareInterval_Linspace']].head())"
      ],
      "execution_count": 27,
      "outputs": [
        {
          "output_type": "stream",
          "name": "stdout",
          "text": [
            "FareInterval_Linspace\n",
            "(-0.001, 102.466]     0.363309\n",
            "(102.466, 204.932]    0.757576\n",
            "(204.932, 307.398]    0.647059\n",
            "(307.398, 409.863]         NaN\n",
            "(409.863, 512.329]    1.000000\n",
            "Name: Survived, dtype: float64\n",
            "      Fare FareInterval_Linspace\n",
            "0   7.2500     (-0.001, 102.466]\n",
            "1  71.2833     (-0.001, 102.466]\n",
            "2   7.9250     (-0.001, 102.466]\n",
            "3  53.1000     (-0.001, 102.466]\n",
            "4   8.0500     (-0.001, 102.466]\n"
          ]
        },
        {
          "output_type": "stream",
          "name": "stderr",
          "text": [
            "/tmp/ipython-input-2989209961.py:14: FutureWarning: The default of observed=False is deprecated and will be changed to True in a future version of pandas. Pass observed=False to retain current behavior or observed=True to adopt the future default and silence this warning.\n",
            "  survival_rate_by_fare_interval_linspace = df.groupby('FareInterval_Linspace')['Survived'].mean()\n"
          ]
        }
      ]
    },
    {
      "cell_type": "code",
      "source": [
        "# Crear 5 intervalos equidistantes de 'Fare'\n",
        "bins = np.linspace(df['Fare'].min(), df['Fare'].max(), 6)\n",
        "\n",
        "# Clasificar a los pasajeros en esos intervalos\n",
        "df['Fare_interval'] = pd.cut(df['Fare'], bins=bins)\n",
        "\n",
        "print(df[['Fare', 'Fare_interval']].head())"
      ],
      "metadata": {
        "colab": {
          "base_uri": "https://localhost:8080/"
        },
        "id": "mRgYQHt2oGBk",
        "outputId": "2b286214-01f6-4953-ea1d-590fe50bcdd8"
      },
      "execution_count": 29,
      "outputs": [
        {
          "output_type": "stream",
          "name": "stdout",
          "text": [
            "      Fare   Fare_interval\n",
            "0   7.2500  (0.0, 102.466]\n",
            "1  71.2833  (0.0, 102.466]\n",
            "2   7.9250  (0.0, 102.466]\n",
            "3  53.1000  (0.0, 102.466]\n",
            "4   8.0500  (0.0, 102.466]\n"
          ]
        }
      ]
    },
    {
      "cell_type": "code",
      "source": [
        "print(df.head())"
      ],
      "metadata": {
        "colab": {
          "base_uri": "https://localhost:8080/"
        },
        "id": "REJLpouopAJ4",
        "outputId": "95d37ab8-d1ce-4a72-b8c7-2c2b54ce332d"
      },
      "execution_count": 30,
      "outputs": [
        {
          "output_type": "stream",
          "name": "stdout",
          "text": [
            "   Survived  Pclass                                               Name  \\\n",
            "0         0       3                             Mr. Owen Harris Braund   \n",
            "1         1       1  Mrs. John Bradley (Florence Briggs Thayer) Cum...   \n",
            "2         1       3                              Miss. Laina Heikkinen   \n",
            "3         1       1        Mrs. Jacques Heath (Lily May Peel) Futrelle   \n",
            "4         0       3                            Mr. William Henry Allen   \n",
            "\n",
            "      Sex   Age  Siblings/Spouses Aboard  Parents/Children Aboard     Fare  \\\n",
            "0    male  22.0                        1                        0   7.2500   \n",
            "1  female  38.0                        1                        0  71.2833   \n",
            "2  female  26.0                        0                        0   7.9250   \n",
            "3  female  35.0                        1                        0  53.1000   \n",
            "4    male  35.0                        0                        0   8.0500   \n",
            "\n",
            "   FamilySize   segmentoEdad FareInterval_Linspace   Fare_interval  \n",
            "0           1  Mayor de Edad     (-0.001, 102.466]  (0.0, 102.466]  \n",
            "1           1  Mayor de Edad     (-0.001, 102.466]  (0.0, 102.466]  \n",
            "2           0  Mayor de Edad     (-0.001, 102.466]  (0.0, 102.466]  \n",
            "3           1  Mayor de Edad     (-0.001, 102.466]  (0.0, 102.466]  \n",
            "4           0  Mayor de Edad     (-0.001, 102.466]  (0.0, 102.466]  \n"
          ]
        }
      ]
    },
    {
      "cell_type": "code",
      "source": [
        "# Agrupar por intervalos de tarifa\n",
        "resumen = df.groupby('Fare_interval')['Survived'].agg(\n",
        "    pasajeros='count',      # número de pasajeros por intervalo\n",
        "    proporcion_supervivencia='mean' # proporción de sobrevivientes\n",
        ")\n",
        "\n",
        "print(resumen)"
      ],
      "metadata": {
        "colab": {
          "base_uri": "https://localhost:8080/"
        },
        "id": "pPkPggY-pZlD",
        "outputId": "ed973fa2-c374-4e73-cec7-e9b7cd99821c"
      },
      "execution_count": 35,
      "outputs": [
        {
          "output_type": "stream",
          "name": "stdout",
          "text": [
            "                    pasajeros  proporcion_supervivencia\n",
            "Fare_interval                                          \n",
            "(0.0, 102.466]            819                  0.368742\n",
            "(102.466, 204.932]         33                  0.757576\n",
            "(204.932, 307.398]         17                  0.647059\n",
            "(307.398, 409.863]          0                       NaN\n",
            "(409.863, 512.329]          3                  1.000000\n"
          ]
        },
        {
          "output_type": "stream",
          "name": "stderr",
          "text": [
            "/tmp/ipython-input-2935680237.py:2: FutureWarning: The default of observed=False is deprecated and will be changed to True in a future version of pandas. Pass observed=False to retain current behavior or observed=True to adopt the future default and silence this warning.\n",
            "  resumen = df.groupby('Fare_interval')['Survived'].agg(\n"
          ]
        }
      ]
    },
    {
      "cell_type": "code",
      "source": [
        "# Agrupar por intervalos de tarifa\n",
        "resumen = df.groupby('FareInterval_Linspace')['Survived'].agg(\n",
        "    pasajeros='count',       # número de pasajeros por intervalo\n",
        "    proporcion_supervivencia='mean'  # proporción de sobrevivientes\n",
        ")\n",
        "\n",
        "print(resumen)"
      ],
      "metadata": {
        "colab": {
          "base_uri": "https://localhost:8080/"
        },
        "id": "Ez-Ot2-qrInf",
        "outputId": "e836b161-aa49-4802-ff57-5cc8066218e6"
      },
      "execution_count": 36,
      "outputs": [
        {
          "output_type": "stream",
          "name": "stdout",
          "text": [
            "                       pasajeros  proporcion_supervivencia\n",
            "FareInterval_Linspace                                     \n",
            "(-0.001, 102.466]            834                  0.363309\n",
            "(102.466, 204.932]            33                  0.757576\n",
            "(204.932, 307.398]            17                  0.647059\n",
            "(307.398, 409.863]             0                       NaN\n",
            "(409.863, 512.329]             3                  1.000000\n"
          ]
        },
        {
          "output_type": "stream",
          "name": "stderr",
          "text": [
            "/tmp/ipython-input-3857201543.py:2: FutureWarning: The default of observed=False is deprecated and will be changed to True in a future version of pandas. Pass observed=False to retain current behavior or observed=True to adopt the future default and silence this warning.\n",
            "  resumen = df.groupby('FareInterval_Linspace')['Survived'].agg(\n"
          ]
        }
      ]
    },
    {
      "cell_type": "code",
      "source": [
        "# Número de pasajeros que sobrevivieron\n",
        "num_supervivientes = df['Survived'].sum()\n",
        "print(num_supervivientes)"
      ],
      "metadata": {
        "colab": {
          "base_uri": "https://localhost:8080/"
        },
        "id": "4215y4O7r5Fk",
        "outputId": "631067ae-3a72-4268-c817-da17f02dfb28"
      },
      "execution_count": 37,
      "outputs": [
        {
          "output_type": "stream",
          "name": "stdout",
          "text": [
            "342\n"
          ]
        }
      ]
    }
  ]
}