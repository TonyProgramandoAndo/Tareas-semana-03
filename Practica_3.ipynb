{
  "nbformat": 4,
  "nbformat_minor": 0,
  "metadata": {
    "colab": {
      "provenance": []
    },
    "kernelspec": {
      "name": "python3",
      "display_name": "Python 3"
    },
    "language_info": {
      "name": "python"
    }
  },
  "cells": [
    {
      "cell_type": "markdown",
      "source": [
        "Antonio Calzadilla Miranda"
      ],
      "metadata": {
        "id": "whh51yw2-z12"
      }
    },
    {
      "cell_type": "markdown",
      "source": [
        "**Practica 03**\n",
        "Creación de un arreglo y operaciones básicas\n",
        "\n",
        "Crea un arreglo unidimensional de 20 elementos con valores aleatorios entre 1 y 100. Luego, realiza las siguientes operaciones:\n",
        "\n",
        "Encuentra el valor máximo del arreglo.\n",
        "\n",
        "Encuentra el valor mínimo del arreglo.\n",
        "\n",
        "Calcula la media del arreglo.\n",
        "\n",
        "Suma 10 a cada elemento del arreglo.\n",
        "\n",
        "No olvides enviar tu .ipynb y el link de tu repositorio de github"
      ],
      "metadata": {
        "id": "wvekKnQ6-J7_"
      }
    },
    {
      "cell_type": "markdown",
      "source": [
        "**Creación de arreglos:**\n",
        "\n",
        "Ejercicio: Crea un arreglo de 25 elementos con valores enteros aleatorios entre 0 y 100"
      ],
      "metadata": {
        "id": "3b-uDbqw-Pl4"
      }
    },
    {
      "cell_type": "code",
      "execution_count": 1,
      "metadata": {
        "colab": {
          "base_uri": "https://localhost:8080/"
        },
        "id": "sIftk3Yi-D4K",
        "outputId": "90189b5a-b991-4889-aaaa-b89c47f7e108"
      },
      "outputs": [
        {
          "output_type": "stream",
          "name": "stdout",
          "text": [
            "[45 38 46 64 16 48  7 60 57 50 33  4 77 15 57 83 69 58 91 84]\n"
          ]
        }
      ],
      "source": [
        "import numpy as np\n",
        "arr = np.random.randint(1, 101, 20)\n",
        "print(arr)"
      ]
    },
    {
      "cell_type": "code",
      "source": [
        "print(\"El valor maximo es :\", np.max(arr))\n",
        "print(\"El valor minimo es :\", np.min(arr))\n",
        "print(\"La media es :\", np.mean(arr))\n",
        "print(\"Suma de 10:\", arr + 10)"
      ],
      "metadata": {
        "colab": {
          "base_uri": "https://localhost:8080/"
        },
        "id": "W1mT_GC9-rFr",
        "outputId": "c57ccc2f-99b3-4a6f-9c76-d29f5f273b5e"
      },
      "execution_count": 2,
      "outputs": [
        {
          "output_type": "stream",
          "name": "stdout",
          "text": [
            "El valor maximo es : 91\n",
            "El valor minimo es : 4\n",
            "La media es : 50.1\n",
            "Suma de 10: [ 55  48  56  74  26  58  17  70  67  60  43  14  87  25  67  93  79  68\n",
            " 101  94]\n"
          ]
        }
      ]
    }
  ]
}