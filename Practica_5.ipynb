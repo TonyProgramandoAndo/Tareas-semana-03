{
  "nbformat": 4,
  "nbformat_minor": 0,
  "metadata": {
    "colab": {
      "provenance": [],
      "authorship_tag": "ABX9TyOkaGz6GTUAK7/mdg4cjjYj",
      "include_colab_link": true
    },
    "kernelspec": {
      "name": "python3",
      "display_name": "Python 3"
    },
    "language_info": {
      "name": "python"
    }
  },
  "cells": [
    {
      "cell_type": "markdown",
      "metadata": {
        "id": "view-in-github",
        "colab_type": "text"
      },
      "source": [
        "<a href=\"https://colab.research.google.com/github/TonyProgramandoAndo/Tareas-semana-03/blob/main/Practica_5.ipynb\" target=\"_parent\"><img src=\"https://colab.research.google.com/assets/colab-badge.svg\" alt=\"Open In Colab\"/></a>"
      ]
    },
    {
      "cell_type": "markdown",
      "source": [
        "Antonio Calzadilla Miranda"
      ],
      "metadata": {
        "id": "E6x6mUbrD-HX"
      }
    },
    {
      "cell_type": "markdown",
      "source": [
        "**Tarea 05**\n",
        "\n",
        " Uso de máscaras booleanas\n",
        "\n",
        "Crea un arreglo unidimensional con 15 números aleatorios entre 1 y 50. Luego:\n",
        "\n",
        "Selecciona los elementos mayores que 25 utilizando una máscara booleana.\n",
        "Cuenta cuántos elementos son mayores que 25.\n",
        "\n",
        "\n",
        "No olvides enviar tu .ipynb y el link de tu repositorio de github"
      ],
      "metadata": {
        "id": "seol9sjrD6Gb"
      }
    },
    {
      "cell_type": "code",
      "source": [
        "import numpy as np\n",
        "arr = np.random.randint(1, 51, 15)\n",
        "print(\"Original:\", arr)\n",
        "mask = arr > 25\n",
        "print(\"Elementos mayores que 25:\", arr[mask])"
      ],
      "metadata": {
        "colab": {
          "base_uri": "https://localhost:8080/"
        },
        "id": "rPM09tifDJOz",
        "outputId": "d438df11-f8f4-4d67-c64a-ec8a52e135c5"
      },
      "execution_count": 4,
      "outputs": [
        {
          "output_type": "stream",
          "name": "stdout",
          "text": [
            "Original: [ 7 45 29 46  9 21  3 50 32 43  4 36 41 39 36]\n",
            "Elementos mayores que 25: [45 29 46 50 32 43 36 41 39 36]\n"
          ]
        }
      ]
    },
    {
      "cell_type": "code",
      "source": [
        "print('La cantidad de elementos mayor a 25 son:', np.sum(mask))"
      ],
      "metadata": {
        "colab": {
          "base_uri": "https://localhost:8080/"
        },
        "id": "TCONkMABDd1N",
        "outputId": "82ada868-c542-4970-f273-a16b69addf44"
      },
      "execution_count": 6,
      "outputs": [
        {
          "output_type": "stream",
          "name": "stdout",
          "text": [
            "La cantidad de elementos mayor a 25 son: 10\n"
          ]
        }
      ]
    }
  ]
}